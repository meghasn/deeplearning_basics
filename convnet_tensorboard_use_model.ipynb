{
  "cells": [
    {
      "cell_type": "markdown",
      "metadata": {
        "id": "9XgGsPiFcX6j"
      },
      "source": [
        "CNN"
      ]
    },
    {
      "cell_type": "markdown",
      "metadata": {
        "id": "w-xAKbizcZ53"
      },
      "source": [
        "We will do convolution, pooling, convolution, pooling fully connected"
      ]
    },
    {
      "cell_type": "code",
      "execution_count": 1,
      "metadata": {
        "id": "fgqZqNQNEzrY"
      },
      "outputs": [],
      "source": [
        "import tensorflow as tf\n",
        "from tensorflow.keras.models import Sequential\n",
        "from tensorflow.keras.layers import Dense,Dropout, Activation, Flatten, Conv2D, MaxPooling2D\n",
        "from tensorflow.keras.callbacks import TensorBoard\n",
        "import time"
      ]
    },
    {
      "cell_type": "code",
      "execution_count": 2,
      "metadata": {
        "id": "wBWLM7Vh2G61"
      },
      "outputs": [],
      "source": [
        "dense_layer=[0]\n",
        "layer_sizes=[68]\n",
        "conv_layers=[3]"
      ]
    },
    {
      "cell_type": "code",
      "execution_count": 3,
      "metadata": {
        "id": "trdttJnCzttS"
      },
      "outputs": [],
      "source": [
        "gpu_options=tf.compat.v1.GPUOptions(per_process_gpu_memory_fraction=.333)\n",
        "sess=tf.compat.v1.Session(config=tf.compat.v1.ConfigProto(gpu_options=gpu_options))"
      ]
    },
    {
      "cell_type": "code",
      "execution_count": 4,
      "metadata": {
        "id": "bI7ie2gYd5FJ"
      },
      "outputs": [],
      "source": [
        "import pickle\n",
        "X=pickle.load(open('X.pickle','rb'))\n",
        "y=pickle.load(open('y.pickle','rb'))"
      ]
    },
    {
      "cell_type": "code",
      "execution_count": 5,
      "metadata": {
        "id": "j2cwiUEikfVV"
      },
      "outputs": [],
      "source": [
        "import numpy as np\n"
      ]
    },
    {
      "cell_type": "code",
      "execution_count": 6,
      "metadata": {
        "id": "w4TGJ2aQjfbb"
      },
      "outputs": [],
      "source": [
        "y=np.array(y)#both inputs to the model have to be numpy array and not lists"
      ]
    },
    {
      "cell_type": "markdown",
      "metadata": {
        "id": "IKv7pGL6evc1"
      },
      "source": [
        "we have to normalize the value ..since for pixel data we know that min is 0 and max is 255.. we can just divide by 255\n",
        "\n"
      ]
    },
    {
      "cell_type": "code",
      "execution_count": 7,
      "metadata": {
        "id": "d7U_ou6PeTeX"
      },
      "outputs": [],
      "source": [
        "X=X/255.0\n"
      ]
    },
    {
      "cell_type": "code",
      "execution_count": null,
      "metadata": {
        "colab": {
          "base_uri": "https://localhost:8080/",
          "height": 17
        },
        "id": "bWBbtCliZuE3",
        "outputId": "e3188497-2380-44fa-ee4a-3f13a46a4761"
      },
      "outputs": [
        {
          "data": {
            "application/javascript": [
              "\n",
              "        (async () => {\n",
              "            const url = new URL(await google.colab.kernel.proxyPort(6006, {'cache': true}));\n",
              "            url.searchParams.set('tensorboardColab', 'true');\n",
              "            const iframe = document.createElement('iframe');\n",
              "            iframe.src = url;\n",
              "            iframe.setAttribute('width', '100%');\n",
              "            iframe.setAttribute('height', '800');\n",
              "            iframe.setAttribute('frameborder', 0);\n",
              "            document.body.appendChild(iframe);\n",
              "        })();\n",
              "    "
            ],
            "text/plain": [
              "<IPython.core.display.Javascript object>"
            ]
          },
          "metadata": {},
          "output_type": "display_data"
        }
      ],
      "source": [
        "%load_ext tensorboard\n",
        "%tensorboard --logdir=logs/\n"
      ]
    },
    {
      "cell_type": "code",
      "execution_count": null,
      "metadata": {
        "colab": {
          "base_uri": "https://localhost:8080/",
          "height": 186
        },
        "id": "GwOlSq-5_rGd",
        "outputId": "3d7563b0-42b9-4f58-d44a-ec2ab31d1722"
      },
      "outputs": [
        {
          "ename": "NameError",
          "evalue": "ignored",
          "output_type": "error",
          "traceback": [
            "\u001b[0;31m---------------------------------------------------------------------------\u001b[0m",
            "\u001b[0;31mNameError\u001b[0m                                 Traceback (most recent call last)",
            "\u001b[0;32m<ipython-input-9-4c7cd9b4dda4>\u001b[0m in \u001b[0;36m<module>\u001b[0;34m()\u001b[0m\n\u001b[1;32m      1\u001b[0m \u001b[0;32mimport\u001b[0m \u001b[0mtensorboard\u001b[0m\u001b[0;34m\u001b[0m\u001b[0;34m\u001b[0m\u001b[0m\n\u001b[0;32m----> 2\u001b[0;31m \u001b[0mtensorboard\u001b[0m\u001b[0;34m=\u001b[0m\u001b[0mTensorBoard\u001b[0m\u001b[0;34m(\u001b[0m\u001b[0mlog_dir\u001b[0m\u001b[0;34m=\u001b[0m\u001b[0;34m'logs/{}'\u001b[0m\u001b[0;34m.\u001b[0m\u001b[0mformat\u001b[0m\u001b[0;34m(\u001b[0m\u001b[0mNAME\u001b[0m\u001b[0;34m)\u001b[0m\u001b[0;34m)\u001b[0m\u001b[0;34m\u001b[0m\u001b[0;34m\u001b[0m\u001b[0m\n\u001b[0m",
            "\u001b[0;31mNameError\u001b[0m: name 'NAME' is not defined"
          ]
        }
      ],
      "source": [
        "import tensorboard\n",
        "tensorboard=TensorBoard(log_dir='logs/{}'.format(NAME))"
      ]
    },
    {
      "cell_type": "code",
      "execution_count": 8,
      "metadata": {
        "colab": {
          "base_uri": "https://localhost:8080/"
        },
        "id": "COY_MFSqfTU-",
        "outputId": "05742c3b-d9bc-44da-d849-c3c3dfeb4398"
      },
      "outputs": [
        {
          "output_type": "stream",
          "name": "stdout",
          "text": [
            "3-conv-68-nodes-0-dense-1650797536\n",
            "Epoch 1/10\n",
            "655/655 [==============================] - 129s 196ms/step - loss: 0.6360 - accuracy: 0.6260 - val_loss: 0.5638 - val_accuracy: 0.7083\n",
            "Epoch 2/10\n",
            "655/655 [==============================] - 123s 187ms/step - loss: 0.5386 - accuracy: 0.7326 - val_loss: 0.5235 - val_accuracy: 0.7363\n",
            "Epoch 3/10\n",
            "655/655 [==============================] - 124s 189ms/step - loss: 0.4890 - accuracy: 0.7638 - val_loss: 0.4805 - val_accuracy: 0.7672\n",
            "Epoch 4/10\n",
            "655/655 [==============================] - 128s 196ms/step - loss: 0.4497 - accuracy: 0.7891 - val_loss: 0.4387 - val_accuracy: 0.8003\n",
            "Epoch 5/10\n",
            "655/655 [==============================] - 130s 199ms/step - loss: 0.4078 - accuracy: 0.8124 - val_loss: 0.4261 - val_accuracy: 0.8071\n",
            "Epoch 6/10\n",
            "655/655 [==============================] - 129s 197ms/step - loss: 0.3793 - accuracy: 0.8285 - val_loss: 0.3878 - val_accuracy: 0.8230\n",
            "Epoch 7/10\n",
            "655/655 [==============================] - 136s 207ms/step - loss: 0.3441 - accuracy: 0.8484 - val_loss: 0.3996 - val_accuracy: 0.8222\n",
            "Epoch 8/10\n",
            "655/655 [==============================] - 125s 191ms/step - loss: 0.3197 - accuracy: 0.8580 - val_loss: 0.4384 - val_accuracy: 0.7964\n",
            "Epoch 9/10\n",
            "655/655 [==============================] - 128s 196ms/step - loss: 0.2885 - accuracy: 0.8760 - val_loss: 0.4143 - val_accuracy: 0.8222\n",
            "Epoch 10/10\n",
            "655/655 [==============================] - 130s 199ms/step - loss: 0.2683 - accuracy: 0.8859 - val_loss: 0.3957 - val_accuracy: 0.8372\n",
            "INFO:tensorflow:Assets written to: catvsdog-cnn.model/assets\n"
          ]
        }
      ],
      "source": [
        "for d_layer in dense_layer:\n",
        "  for l_size in layer_sizes:\n",
        "    for c_layer in conv_layers:\n",
        "      NAME=\"{}-conv-{}-nodes-{}-dense-{}\".format(c_layer,l_size,d_layer,int(time.time()))\n",
        "      tensorboard=TensorBoard(log_dir='logs/{}'.format(NAME))\n",
        "      print(NAME)\n",
        "      \n",
        "      model=Sequential()#2*64 convolution layer\n",
        "      #layer1\n",
        "      model.add(Conv2D(l_size,(3,3),input_shape=X.shape[1:]))#after conv we can have either an activation or pooling-units, window size, ip shape\n",
        "      model.add(Activation(\"relu\"))\n",
        "      model.add(MaxPooling2D(pool_size=(2,2)))\n",
        "      for l in range(c_layer-1):\n",
        "        model.add(Conv2D(l_size,(3,3)))\n",
        "        model.add(Activation(\"relu\"))\n",
        "        model.add(MaxPooling2D(pool_size=(2,2)))\n",
        "\n",
        "      \n",
        "      #layer3\n",
        "      model.add(Flatten())\n",
        "      for d in range(d_layer):\n",
        "        model.add(Dense(l_size))\n",
        "        model.add(Activation(\"relu\"))\n",
        "\n",
        "      model.add(Dense(64))\n",
        "      model.add(Activation(\"relu\"))\n",
        "\n",
        "      #op layer\n",
        "      model.add(Dense(1))\n",
        "      model.add(Activation(\"sigmoid\"))\n",
        "\n",
        "      model.compile(loss=\"binary_crossentropy\",optimizer=\"adam\",metrics=['accuracy'])\n",
        "\n",
        "      model.fit(X,y, batch_size=32,epochs=10,validation_split=.1, callbacks=[tensorboard])\n",
        "model.save('catvsdog-cnn.model')"
      ]
    },
    {
      "cell_type": "code",
      "source": [
        "import tensorflow as tf\n",
        "import cv2\n",
        "\n",
        "categories=[\"dog\",\"cat\"]\n",
        "\n",
        "def prepare(file_path):\n",
        "  IMG_SIZE=50\n",
        "  img_array=cv2.imread(file_path,cv2.IMREAD_GRAYSCALE)\n",
        "  new_array=cv2.resize(img_array,(IMG_SIZE,IMG_SIZE))\n",
        "  \n",
        "  return new_array.reshape(-1,IMG_SIZE,IMG_SIZE)\n",
        "\n",
        "model=tf.keras.models.load_model(\"catvsdog-cnn.model\")\n"
      ],
      "metadata": {
        "id": "OACJxj58M5p8"
      },
      "execution_count": 19,
      "outputs": []
    },
    {
      "cell_type": "code",
      "source": [
        "pre_image=prepare('/content/photo-1615789591457-74a63395c990.jpeg')\n"
      ],
      "metadata": {
        "id": "Msw7E0b7Syqv"
      },
      "execution_count": 20,
      "outputs": []
    },
    {
      "cell_type": "code",
      "source": [
        "prediction=model.predict([pre_image])\n",
        "print(pre_image)"
      ],
      "metadata": {
        "colab": {
          "base_uri": "https://localhost:8080/"
        },
        "id": "_4jtFscyTDvV",
        "outputId": "47e71d48-841b-4997-dd6a-c4d7a8d6d1f3"
      },
      "execution_count": 21,
      "outputs": [
        {
          "output_type": "stream",
          "name": "stdout",
          "text": [
            "[[[  5   4  14 ...  27  26  24]\n",
            "  [  4   3  12 ...  33  28  23]\n",
            "  [  1   2  11 ...  32  28  26]\n",
            "  ...\n",
            "  [105 110 110 ...  77  73  68]\n",
            "  [108 109 106 ...  78  69  65]\n",
            "  [100  96 102 ...  79  71  64]]]\n"
          ]
        }
      ]
    },
    {
      "cell_type": "code",
      "source": [
        "print(prediction)\n",
        "print(categories[int(prediction[0][0])])"
      ],
      "metadata": {
        "colab": {
          "base_uri": "https://localhost:8080/"
        },
        "id": "SqaQcJsUTTX1",
        "outputId": "f8517ddb-dd0f-4272-e17b-b83639436e40"
      },
      "execution_count": 22,
      "outputs": [
        {
          "output_type": "stream",
          "name": "stdout",
          "text": [
            "[[1.]]\n",
            "cat\n"
          ]
        }
      ]
    }
  ],
  "metadata": {
    "colab": {
      "name": "convnet_tensorboard_use-model.ipynb",
      "provenance": []
    },
    "kernelspec": {
      "display_name": "Python 3",
      "name": "python3"
    },
    "language_info": {
      "name": "python"
    }
  },
  "nbformat": 4,
  "nbformat_minor": 0
}