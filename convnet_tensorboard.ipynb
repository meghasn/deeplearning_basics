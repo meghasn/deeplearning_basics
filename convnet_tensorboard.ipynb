{
  "cells": [
    {
      "cell_type": "markdown",
      "metadata": {
        "id": "9XgGsPiFcX6j"
      },
      "source": [
        "CNN"
      ]
    },
    {
      "cell_type": "markdown",
      "metadata": {
        "id": "w-xAKbizcZ53"
      },
      "source": [
        "We will do convolution, pooling, convolution, pooling fully connected"
      ]
    },
    {
      "cell_type": "code",
      "execution_count": null,
      "metadata": {
        "id": "fgqZqNQNEzrY"
      },
      "outputs": [],
      "source": [
        "import tensorflow as tf\n",
        "from tensorflow.keras.models import Sequential\n",
        "from tensorflow.keras.layers import Dense,Dropout, Activation, Flatten, Conv2D, MaxPooling2D\n",
        "from tensorflow.keras.callbacks import TensorBoard\n",
        "import time"
      ]
    },
    {
      "cell_type": "code",
      "execution_count": null,
      "metadata": {
        "id": "etu3wbzK4xdM"
      },
      "outputs": [],
      "source": [
        "NAME=\"cats-vs-dogs-cnn-64*2-{}\".format(int(time.time()))"
      ]
    },
    {
      "cell_type": "code",
      "execution_count": null,
      "metadata": {
        "id": "_iRCs-4F5MuX"
      },
      "outputs": [],
      "source": [
        "tensorboard=TensorBoard(log_dir='logs/{}'.format(NAME))"
      ]
    },
    {
      "cell_type": "code",
      "execution_count": null,
      "metadata": {
        "id": "trdttJnCzttS"
      },
      "outputs": [],
      "source": [
        "gpu_options=tf.compat.v1.GPUOptions(per_process_gpu_memory_fraction=.333)\n",
        "sess=tf.compat.v1.Session(config=tf.compat.v1.ConfigProto(gpu_options=gpu_options))"
      ]
    },
    {
      "cell_type": "code",
      "execution_count": null,
      "metadata": {
        "id": "bI7ie2gYd5FJ"
      },
      "outputs": [],
      "source": [
        "import pickle\n",
        "X=pickle.load(open('X.pickle','rb'))\n",
        "y=pickle.load(open('y.pickle','rb'))"
      ]
    },
    {
      "cell_type": "code",
      "execution_count": null,
      "metadata": {
        "id": "j2cwiUEikfVV"
      },
      "outputs": [],
      "source": [
        "import numpy as np\n"
      ]
    },
    {
      "cell_type": "code",
      "execution_count": null,
      "metadata": {
        "id": "w4TGJ2aQjfbb"
      },
      "outputs": [],
      "source": [
        "y=np.array(y)#both inputs to the model have to be numpy array and not lists"
      ]
    },
    {
      "cell_type": "markdown",
      "metadata": {
        "id": "IKv7pGL6evc1"
      },
      "source": [
        "we have to normalize the value ..since for pixel data we know that min is 0 and max is 255.. we can just divide by 255\n",
        "\n"
      ]
    },
    {
      "cell_type": "code",
      "execution_count": null,
      "metadata": {
        "id": "d7U_ou6PeTeX"
      },
      "outputs": [],
      "source": [
        "X=X/255.0\n"
      ]
    },
    {
      "cell_type": "code",
      "execution_count": null,
      "metadata": {
        "colab": {
          "base_uri": "https://localhost:8080/"
        },
        "id": "COY_MFSqfTU-",
        "outputId": "c30af969-7b10-454a-b1bb-2a739fc65634"
      },
      "outputs": [
        {
          "name": "stdout",
          "output_type": "stream",
          "text": [
            "Epoch 1/10\n",
            "655/655 [==============================] - 96s 145ms/step - loss: 0.6431 - accuracy: 0.6173 - val_loss: 0.5923 - val_accuracy: 0.6735\n",
            "Epoch 2/10\n",
            "655/655 [==============================] - 94s 144ms/step - loss: 0.5271 - accuracy: 0.7384 - val_loss: 0.4997 - val_accuracy: 0.7603\n",
            "Epoch 3/10\n",
            "655/655 [==============================] - 94s 144ms/step - loss: 0.4684 - accuracy: 0.7754 - val_loss: 0.4706 - val_accuracy: 0.7741\n",
            "Epoch 4/10\n",
            "655/655 [==============================] - 94s 144ms/step - loss: 0.4207 - accuracy: 0.8047 - val_loss: 0.4494 - val_accuracy: 0.7912\n",
            "Epoch 5/10\n",
            "655/655 [==============================] - 94s 144ms/step - loss: 0.3735 - accuracy: 0.8355 - val_loss: 0.4787 - val_accuracy: 0.7826\n",
            "Epoch 6/10\n",
            "655/655 [==============================] - 94s 144ms/step - loss: 0.3267 - accuracy: 0.8566 - val_loss: 0.4544 - val_accuracy: 0.7998\n",
            "Epoch 7/10\n",
            "655/655 [==============================] - 95s 144ms/step - loss: 0.2794 - accuracy: 0.8825 - val_loss: 0.4938 - val_accuracy: 0.7899\n",
            "Epoch 8/10\n",
            "655/655 [==============================] - 95s 145ms/step - loss: 0.2340 - accuracy: 0.9031 - val_loss: 0.5209 - val_accuracy: 0.7921\n",
            "Epoch 9/10\n",
            "655/655 [==============================] - 94s 144ms/step - loss: 0.1821 - accuracy: 0.9281 - val_loss: 0.5449 - val_accuracy: 0.7908\n",
            "Epoch 10/10\n",
            "655/655 [==============================] - 95s 145ms/step - loss: 0.1386 - accuracy: 0.9472 - val_loss: 0.6320 - val_accuracy: 0.7917\n"
          ]
        },
        {
          "data": {
            "text/plain": [
              "<keras.callbacks.History at 0x7f309afb65d0>"
            ]
          },
          "execution_count": 9,
          "metadata": {},
          "output_type": "execute_result"
        }
      ],
      "source": [
        "model=Sequential()#2*64 convolution layer\n",
        "#layer1\n",
        "model.add(Conv2D(64,(3,3),input_shape=X.shape[1:]))#after conv we can have either an activation or pooling-units, window size, ip shape\n",
        "model.add(Activation(\"relu\"))\n",
        "model.add(MaxPooling2D(pool_size=(2,2)))\n",
        "#layer2\n",
        "model.add(Conv2D(64,(3,3)))#after conv we can have either an activation or pooling\n",
        "model.add(Activation(\"relu\"))\n",
        "model.add(MaxPooling2D(pool_size=(2,2)))\n",
        "#layer3\n",
        "model.add(Flatten())\n",
        "model.add(Dense(64))\n",
        "model.add(Activation(\"relu\"))\n",
        "\n",
        "#op layer\n",
        "model.add(Dense(1))\n",
        "model.add(Activation(\"sigmoid\"))\n",
        "\n",
        "model.compile(loss=\"binary_crossentropy\",optimizer=\"adam\",metrics=['accuracy'])\n",
        "\n",
        "model.fit(X,y, batch_size=32,epochs=10,validation_split=.1, callbacks=[tensorboard])"
      ]
    },
    {
      "cell_type": "code",
      "execution_count": null,
      "metadata": {
        "id": "bWBbtCliZuE3"
      },
      "outputs": [],
      "source": [
        "%load_ext tensorboard\n",
        "%tensorboard --logdir=logs/"
      ]
    },
    {
      "cell_type": "code",
      "execution_count": null,
      "metadata": {
        "colab": {
          "base_uri": "https://localhost:8080/"
        },
        "id": "g3JzPf4GeIIX",
        "outputId": "b7fa89b2-e8de-4b70-aa5a-bf3cfe1833c0"
      },
      "outputs": [
        {
          "name": "stdout",
          "output_type": "stream",
          "text": [
            "Known TensorBoard instances:\n",
            "  - port 6007: logdir logs/ (started 0:12:43 ago; pid 549)\n",
            "  - port 6006: logdir logs (started 0:22:17 ago; pid 499)\n"
          ]
        }
      ],
      "source": [
        "from tensorboard import notebook\n",
        "notebook.list()"
      ]
    },
    {
      "cell_type": "code",
      "execution_count": null,
      "metadata": {
        "colab": {
          "base_uri": "https://localhost:8080/",
          "height": 35
        },
        "id": "2AHF_fB1jbZ1",
        "outputId": "c361865d-7782-4196-fb5d-1dc3245227ce"
      },
      "outputs": [
        {
          "name": "stdout",
          "output_type": "stream",
          "text": [
            "Selecting TensorBoard with logdir logs (started 0:24:02 ago; port 6006, pid 499).\n"
          ]
        },
        {
          "data": {
            "application/javascript": [
              "\n",
              "        (async () => {\n",
              "            const url = new URL(await google.colab.kernel.proxyPort(6006, {'cache': true}));\n",
              "            url.searchParams.set('tensorboardColab', 'true');\n",
              "            const iframe = document.createElement('iframe');\n",
              "            iframe.src = url;\n",
              "            iframe.setAttribute('width', '100%');\n",
              "            iframe.setAttribute('height', '1000');\n",
              "            iframe.setAttribute('frameborder', 0);\n",
              "            document.body.appendChild(iframe);\n",
              "        })();\n",
              "    "
            ],
            "text/plain": [
              "<IPython.core.display.Javascript object>"
            ]
          },
          "metadata": {},
          "output_type": "display_data"
        }
      ],
      "source": [
        "notebook.display(port=6006, height=1000)"
      ]
    },
    {
      "cell_type": "code",
      "execution_count": null,
      "metadata": {
        "colab": {
          "base_uri": "https://localhost:8080/"
        },
        "id": "vph2wmmnlvAw",
        "outputId": "7b249de8-5d22-4a09-eb07-124d0c5d8266"
      },
      "outputs": [
        {
          "name": "stdout",
          "output_type": "stream",
          "text": [
            "2022-04-15 09:38:58.941628: E tensorflow/stream_executor/cuda/cuda_driver.cc:271] failed call to cuInit: CUDA_ERROR_NO_DEVICE: no CUDA-capable device is detected\n",
            "\n",
            "***** TensorBoard Uploader *****\n",
            "\n",
            "This will list all experiments that you've uploaded to\n",
            "https://tensorboard.dev. TensorBoard.dev experiments are visible\n",
            "to everyone. Do not upload sensitive data.\n",
            "\n",
            "Your use of this service is subject to Google's Terms of Service\n",
            "<https://policies.google.com/terms> and Privacy Policy\n",
            "<https://policies.google.com/privacy>, and TensorBoard.dev's Terms of Service\n",
            "<https://tensorboard.dev/policy/terms/>.\n",
            "\n",
            "This notice will not be shown again while you are logged into the uploader.\n",
            "To log out, run `tensorboard dev auth revoke`.\n",
            "\n",
            "Continue? (yes/NO) yes\n",
            "\n",
            "Please visit this URL to authorize this application: https://accounts.google.com/o/oauth2/auth?response_type=code&client_id=373649185512-8v619h5kft38l4456nm2dj4ubeqsrvh6.apps.googleusercontent.com&redirect_uri=urn%3Aietf%3Awg%3Aoauth%3A2.0%3Aoob&scope=openid+https%3A%2F%2Fwww.googleapis.com%2Fauth%2Fuserinfo.email&state=M6Q7shdvy9cdHKtYWZ09ykB7Ctpxvn&prompt=consent&access_type=offline\n",
            "Enter the authorization code: 4/1AX4XfWhpldZdD4l_sVcdfbDApJ_FWBD8f2BOko5H9rNqXypj49IMVtgeCbM\n",
            "\n",
            "No experiments. Use `tensorboard dev upload` to get started.\n"
          ]
        }
      ],
      "source": [
        "!tensorboard dev list"
      ]
    },
    {
      "cell_type": "code",
      "execution_count": null,
      "metadata": {
        "colab": {
          "background_save": true,
          "base_uri": "https://localhost:8080/"
        },
        "id": "Ulq54-BlmKRT",
        "outputId": "3b85ac6e-db67-4de0-f5c0-6a784257a953"
      },
      "outputs": [
        {
          "name": "stdout",
          "output_type": "stream",
          "text": [
            "2022-04-15 09:40:53.217761: E tensorflow/stream_executor/cuda/cuda_driver.cc:271] failed call to cuInit: CUDA_ERROR_NO_DEVICE: no CUDA-capable device is detected\n",
            "Upload started and will continue reading any new data as it's added to the logdir.\n",
            "\n",
            "To stop uploading, press Ctrl-C.\n",
            "\n",
            "New experiment created. View your TensorBoard at: https://tensorboard.dev/experiment/Rq93sLDuQvqCA4xsVwIxig/\n",
            "\n",
            "\u001b[1m[2022-04-15T09:40:54]\u001b[0m Started scanning logdir.\n",
            "E0415 09:40:55.345930 140002562525056 uploader.py:1122] Attempted to re-upload existing blob.  Skipping.\n",
            "\u001b[1m[2022-04-15T09:40:56]\u001b[0m Total uploaded: 60 scalars, 0 tensors, 2 binary objects (50.5 kB)\n",
            "\u001b[90mTotal skipped: 1 binary objects (5 B)\n"
          ]
        }
      ],
      "source": [
        "!tensorboard dev upload --logdir ./logs \\\n"
      ]
    }
  ],
  "metadata": {
    "colab": {
      "name": "convnet_tensorboard.ipynb",
      "provenance": []
    },
    "kernelspec": {
      "display_name": "Python 3",
      "name": "python3"
    },
    "language_info": {
      "name": "python"
    }
  },
  "nbformat": 4,
  "nbformat_minor": 0
}