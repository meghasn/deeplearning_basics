{
  "nbformat": 4,
  "nbformat_minor": 0,
  "metadata": {
    "colab": {
      "name": "convnet.ipynb",
      "provenance": []
    },
    "kernelspec": {
      "name": "python3",
      "display_name": "Python 3"
    },
    "language_info": {
      "name": "python"
    }
  },
  "cells": [
    {
      "cell_type": "markdown",
      "source": [
        "CNN"
      ],
      "metadata": {
        "id": "9XgGsPiFcX6j"
      }
    },
    {
      "cell_type": "markdown",
      "source": [
        "We will do convolution, pooling, convolution, pooling fully connected"
      ],
      "metadata": {
        "id": "w-xAKbizcZ53"
      }
    },
    {
      "cell_type": "code",
      "execution_count": 1,
      "metadata": {
        "id": "fgqZqNQNEzrY"
      },
      "outputs": [],
      "source": [
        "import tensorflow as tf\n",
        "from tensorflow.keras.models import Sequential\n",
        "from tensorflow.keras.layers import Dense,Dropout, Activation, Flatten, Conv2D, MaxPooling2D"
      ]
    },
    {
      "cell_type": "code",
      "source": [
        "import pickle\n",
        "X=pickle.load(open('X.pickle','rb'))\n",
        "y=pickle.load(open('y.pickle','rb'))"
      ],
      "metadata": {
        "id": "bI7ie2gYd5FJ"
      },
      "execution_count": 3,
      "outputs": []
    },
    {
      "cell_type": "code",
      "source": [
        "import numpy as np\n"
      ],
      "metadata": {
        "id": "j2cwiUEikfVV"
      },
      "execution_count": 21,
      "outputs": []
    },
    {
      "cell_type": "code",
      "source": [
        "y=np.array(y)#both inputs to the model have to be numpy array and not lists"
      ],
      "metadata": {
        "id": "w4TGJ2aQjfbb"
      },
      "execution_count": 24,
      "outputs": []
    },
    {
      "cell_type": "markdown",
      "source": [
        "we have to normalize the value ..since for pixel data we know that min is 0 and max is 255.. we can just divide by 255\n",
        "\n"
      ],
      "metadata": {
        "id": "IKv7pGL6evc1"
      }
    },
    {
      "cell_type": "code",
      "source": [
        "X=X/255.0\n"
      ],
      "metadata": {
        "id": "d7U_ou6PeTeX"
      },
      "execution_count": 6,
      "outputs": []
    },
    {
      "cell_type": "code",
      "source": [
        "model=Sequential()#2*64 convolution layer\n",
        "#layer1\n",
        "model.add(Conv2D(64,(3,3),input_shape=X.shape[1:]))#after conv we can have either an activation or pooling-units, window size, ip shape\n",
        "model.add(Activation(\"relu\"))\n",
        "model.add(MaxPooling2D(pool_size=(2,2)))\n",
        "#layer2\n",
        "model.add(Conv2D(64,(3,3)))#after conv we can have either an activation or pooling\n",
        "model.add(Activation(\"relu\"))\n",
        "model.add(MaxPooling2D(pool_size=(2,2)))\n",
        "#layer3\n",
        "model.add(Flatten())\n",
        "model.add(Dense(64))\n",
        "\n",
        "#op layer\n",
        "model.add(Dense(1))\n",
        "model.add(Activation(\"sigmoid\"))\n",
        "\n",
        "model.compile(loss=\"binary_crossentropy\",optimizer=\"adam\",metrics=['accuracy'])\n",
        "\n",
        "model.fit(X,y, batch_size=32,epochs=3,validation_split=.1)"
      ],
      "metadata": {
        "colab": {
          "base_uri": "https://localhost:8080/"
        },
        "id": "COY_MFSqfTU-",
        "outputId": "08961f4f-2adf-4749-f58e-0c5683d1e61c"
      },
      "execution_count": 26,
      "outputs": [
        {
          "metadata": {
            "tags": null
          },
          "name": "stdout",
          "output_type": "stream",
          "text": [
            "Epoch 1/3\n",
            "655/655 [==============================] - 97s 147ms/step - loss: 0.6062 - accuracy: 0.6669 - val_loss: 0.5456 - val_accuracy: 0.7234\n",
            "Epoch 2/3\n",
            "655/655 [==============================] - 96s 146ms/step - loss: 0.5217 - accuracy: 0.7457 - val_loss: 0.5076 - val_accuracy: 0.7552\n",
            "Epoch 3/3\n",
            "655/655 [==============================] - 95s 145ms/step - loss: 0.4755 - accuracy: 0.7753 - val_loss: 0.4886 - val_accuracy: 0.7685\n"
          ]
        },
        {
          "data": {
            "text/plain": [
              "<keras.callbacks.History at 0x7f94da234950>"
            ]
          },
          "execution_count": null,
          "metadata": {},
          "output_type": "execute_result"
        }
      ]
    }
  ]
}